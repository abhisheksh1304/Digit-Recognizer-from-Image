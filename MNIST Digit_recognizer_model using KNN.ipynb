{
 "cells": [
  {
   "cell_type": "code",
   "execution_count": 135,
   "id": "b8795283-a91d-46bc-ae38-3323a4af854d",
   "metadata": {},
   "outputs": [],
   "source": [
    "import numpy as np\n",
    "import pandas as pd\n",
    "import matplotlib.pyplot as plt"
   ]
  },
  {
   "cell_type": "code",
   "execution_count": 136,
   "id": "0f0a6633-38c1-478d-b391-b21cad3fe8c2",
   "metadata": {},
   "outputs": [],
   "source": [
    "data=pd.read_csv('digit-recognizer/train.csv')"
   ]
  },
  {
   "cell_type": "code",
   "execution_count": 137,
   "id": "58f2a042-1aa1-4bce-825c-7547eb8dc557",
   "metadata": {},
   "outputs": [],
   "source": [
    "X=data.drop('label',axis=1)"
   ]
  },
  {
   "cell_type": "code",
   "execution_count": null,
   "id": "3d933b46-8bef-4658-93c0-c8b6713593ba",
   "metadata": {},
   "outputs": [],
   "source": [
    "Y=data['label']"
   ]
  },
  {
   "cell_type": "code",
   "execution_count": 139,
   "id": "8ff682f0-6d28-44fb-9e38-d0ff4a54554a",
   "metadata": {
    "scrolled": true
   },
   "outputs": [
    {
     "name": "stdout",
     "output_type": "stream",
     "text": [
      "(42000, 784)\n",
      "(42000,)\n"
     ]
    }
   ],
   "source": [
    "print(X.shape)\n",
    "print(Y.shape)"
   ]
  },
  {
   "cell_type": "code",
   "execution_count": null,
   "id": "90775c0c-d5cb-4ec4-84f0-1f154377d014",
   "metadata": {},
   "outputs": [],
   "source": [
    "from sklearn.model_selection import train_test_split\n",
    "\n",
    "train_x,test_x,train_y,test_y=train_test_split(X,Y,test_size=0.2,random_state=1)  #splitting X,Y into train,test\n",
    "\n",
    "train_x,cv_x,train_y,cv_y=train_test_split(train_x,train_y,test_size=0.1,random_state=1) #split train into train and cross-validation"
   ]
  },
  {
   "cell_type": "code",
   "execution_count": 141,
   "id": "67dcd271-1c39-4453-aeba-446839aee6f9",
   "metadata": {},
   "outputs": [
    {
     "name": "stdout",
     "output_type": "stream",
     "text": [
      "best_k= 1 Best Accuracy = 96.63690476190476\n"
     ]
    }
   ],
   "source": [
    "from sklearn.neighbors import KNeighborsClassifier\n",
    "from sklearn.metrics import accuracy_score\n",
    "\n",
    "best_k=0\n",
    "bestscore=0;\n",
    "for i in range(1,11): \n",
    "    knn=KNeighborsClassifier(i)\n",
    "    knn.fit(train_x,train_y)\n",
    "    prediction=knn.predict(cv_x)\n",
    "    score=accuracy_score(cv_y,prediction)\n",
    "    if score>=bestscore:\n",
    "        best_k=i\n",
    "        bestscore=score\n",
    "\n",
    "print('best_k= '+str(best_k)+' Best Accuracy = '+str(bestscore*100))\n",
    "      "
   ]
  },
  {
   "cell_type": "code",
   "execution_count": 142,
   "id": "b21ba379-48ef-4231-b2da-21f95c1ed68f",
   "metadata": {},
   "outputs": [
    {
     "name": "stdout",
     "output_type": "stream",
     "text": [
      "Accuracy Score on test data = 0.9660714285714286\n",
      "Accuracy Percentage = 96.60714285714286\n"
     ]
    }
   ],
   "source": [
    "knn=KNeighborsClassifier(best_k)\n",
    "knn.fit(train_x,train_y)\n",
    "prediction=knn.predict(test_x)\n",
    "print('Accuracy Score on test data = '+str(accuracy_score(prediction,test_y)))\n",
    "print('Accuracy Percentage = '+str(100*accuracy_score(prediction,test_y)))"
   ]
  }
 ],
 "metadata": {
  "kernelspec": {
   "display_name": "Python 3 (ipykernel)",
   "language": "python",
   "name": "python3"
  },
  "language_info": {
   "codemirror_mode": {
    "name": "ipython",
    "version": 3
   },
   "file_extension": ".py",
   "mimetype": "text/x-python",
   "name": "python",
   "nbconvert_exporter": "python",
   "pygments_lexer": "ipython3",
   "version": "3.11.6"
  }
 },
 "nbformat": 4,
 "nbformat_minor": 5
}
